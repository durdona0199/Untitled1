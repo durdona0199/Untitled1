{
 "cells": [
  {
   "cell_type": "code",
   "execution_count": null,
   "id": "b9387e8c-1072-405a-a094-0a0f40aa2512",
   "metadata": {
    "jupyter": {
     "source_hidden": true
    }
   },
   "outputs": [],
   "source": [
    "#1-topshriq"
   ]
  },
  {
   "cell_type": "code",
   "execution_count": 26,
   "id": "5e0d7874-15ee-4867-901f-c93127e9e9e5",
   "metadata": {},
   "outputs": [
    {
     "name": "stdin",
     "output_type": "stream",
     "text": [
      "1 son 2\n",
      "2 son 3\n",
      "3 son -4\n"
     ]
    },
    {
     "name": "stdout",
     "output_type": "stream",
     "text": [
      "MAnfiy son mavjud\n"
     ]
    }
   ],
   "source": [
    "d=int(input(\"1 son\"))\n",
    "b=int(input(\"2 son\"))\n",
    "w=int(input(\"3 son\"))\n",
    "if d>0 and b>0 and w>0:\n",
    "    print(\"Yuqori tartibda\",d+b+w)\n",
    "else:\n",
    "    print(\"MAnfiy son mavjud\")\n",
    "    "
   ]
  },
  {
   "cell_type": "code",
   "execution_count": null,
   "id": "15e75cc4-3942-474d-a612-6f86c21dec10",
   "metadata": {},
   "outputs": [],
   "source": [
    "#2-topshiriq"
   ]
  },
  {
   "cell_type": "code",
   "execution_count": 29,
   "id": "75dce6de-cccb-422b-87e7-465f6eb2f5e4",
   "metadata": {},
   "outputs": [
    {
     "name": "stdin",
     "output_type": "stream",
     "text": [
      "Foydalanuvchi 5\n"
     ]
    },
    {
     "name": "stdout",
     "output_type": "stream",
     "text": [
      "Bolalar uchun\n"
     ]
    }
   ],
   "source": [
    "a = int(input(\"Foydalanuvchi\"))\n",
    "if a > 18:\n",
    "    print(\"Kattalar uchun\")\n",
    "else: \n",
    "    print(\"Bolalar uchun\") "
   ]
  },
  {
   "cell_type": "code",
   "execution_count": 3,
   "id": "cd6c2bd4-adcf-4cde-a04e-b4b408c33c7e",
   "metadata": {},
   "outputs": [],
   "source": [
    "#3-topshiriq"
   ]
  },
  {
   "cell_type": "code",
   "execution_count": 30,
   "id": "2a3b634e-2c23-4f70-ac97-6ad613c604da",
   "metadata": {},
   "outputs": [
    {
     "name": "stdin",
     "output_type": "stream",
     "text": [
      "So'z kiriting Xatolik\n",
      "Harf kiriting f\n"
     ]
    },
    {
     "name": "stdout",
     "output_type": "stream",
     "text": [
      "Har mavjud emas\n"
     ]
    }
   ],
   "source": [
    "z = input(\"So'z kiriting\")\n",
    "w = input(\"Harf kiriting\")\n",
    "if w in z:\n",
    "    print(\"Harf mavjud\")\n",
    "else:\n",
    "    print(\"Har mavjud emas\")"
   ]
  },
  {
   "cell_type": "code",
   "execution_count": null,
   "id": "f4956364-c82f-47f3-a3c7-598fced42211",
   "metadata": {},
   "outputs": [],
   "source": [
    "#4-topshiriq"
   ]
  },
  {
   "cell_type": "code",
   "execution_count": 16,
   "id": "fa237d45-9eb5-4856-9f1d-14136f03331c",
   "metadata": {},
   "outputs": [
    {
     "name": "stdin",
     "output_type": "stream",
     "text": [
      "a son 1\n",
      "b son -4\n",
      "c son 9\n"
     ]
    },
    {
     "name": "stdout",
     "output_type": "stream",
     "text": [
      "Aralash tartibda\n"
     ]
    }
   ],
   "source": [
    "a=input(\"a son\")\n",
    "b=input(\"b son\")\n",
    "c=input(\"c son\")\n",
    "if a>b and b>c:\n",
    "    print(\"Yuqori tartibda\")\n",
    "else:\n",
    "    print(\"Aralash tartibda\")\n",
    "    "
   ]
  },
  {
   "cell_type": "code",
   "execution_count": null,
   "id": "dfb094f7-1622-44d6-b550-64c412c4dcf9",
   "metadata": {},
   "outputs": [],
   "source": [
    "#5-topshiriq"
   ]
  },
  {
   "cell_type": "code",
   "execution_count": 18,
   "id": "a3521304-4f39-467c-9f18-c95715707a87",
   "metadata": {},
   "outputs": [
    {
     "name": "stdin",
     "output_type": "stream",
     "text": [
      "1-soni kiriting 1\n",
      "2-sonni kiriting -5\n"
     ]
    },
    {
     "name": "stdout",
     "output_type": "stream",
     "text": [
      "manfy son mavjud\n"
     ]
    }
   ],
   "source": [
    "p = int(input(\"1-soni kiriting\"))\n",
    "q = int(input(\"2-sonni kiriting\"))\n",
    "if p<0 or q<0:\n",
    "    print(\"manfy son mavjud\")\n",
    "else:\n",
    "    print(\"Fakultetni to`g`ri kiriting\")\n"
   ]
  },
  {
   "cell_type": "code",
   "execution_count": null,
   "id": "55be8149-43a1-4c67-8705-48185119a5fb",
   "metadata": {},
   "outputs": [],
   "source": [
    "#6-topshiriq"
   ]
  },
  {
   "cell_type": "code",
   "execution_count": 21,
   "id": "e47c114a-ba42-46a2-b5e7-3e84f27445d8",
   "metadata": {},
   "outputs": [
    {
     "name": "stdin",
     "output_type": "stream",
     "text": [
      "yoshingizni kiriting 21\n",
      "pul miqdorini kiriting 9000\n"
     ]
    },
    {
     "name": "stdout",
     "output_type": "stream",
     "text": [
      "Shartlarni bajarmadingiz\n"
     ]
    }
   ],
   "source": [
    "n = int(input(\"yoshingizni kiriting\"))\n",
    "m = int(input(\"pul miqdorini kiriting\"))\n",
    "if  n > 18 and m > 10000:\n",
    "    print(\"Siz sayohatga chiqshingiz mumkin\")\n",
    "else:\n",
    "    print (\"Shartlarni bajarmadingiz\")\n"
   ]
  }
 ],
 "metadata": {
  "kernelspec": {
   "display_name": "Python 3 (ipykernel)",
   "language": "python",
   "name": "python3"
  },
  "language_info": {
   "codemirror_mode": {
    "name": "ipython",
    "version": 3
   },
   "file_extension": ".py",
   "mimetype": "text/x-python",
   "name": "python",
   "nbconvert_exporter": "python",
   "pygments_lexer": "ipython3",
   "version": "3.12.9"
  }
 },
 "nbformat": 4,
 "nbformat_minor": 5
}
